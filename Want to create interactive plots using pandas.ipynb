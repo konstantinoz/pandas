{
 "cells": [
  {
   "cell_type": "markdown",
   "metadata": {},
   "source": [
    "# Want to create interactive plots using pandas"
   ]
  },
  {
   "cell_type": "code",
   "execution_count": 15,
   "metadata": {},
   "outputs": [],
   "source": [
    "# 1.conda install -c conda-forge hvplot\n",
    "# 2. pd.options.plotting.backend = 'hvplot'\n",
    "# 3. df.plot(...)"
   ]
  },
  {
   "cell_type": "code",
   "execution_count": 7,
   "metadata": {},
   "outputs": [],
   "source": [
    "import pandas as pd"
   ]
  },
  {
   "cell_type": "code",
   "execution_count": 8,
   "metadata": {},
   "outputs": [],
   "source": [
    "df = pd.read_csv('http://bit.ly/drinksbycountry')"
   ]
  },
  {
   "cell_type": "code",
   "execution_count": 9,
   "metadata": {},
   "outputs": [
    {
     "data": {
      "text/html": [
       "<div>\n",
       "<style scoped>\n",
       "    .dataframe tbody tr th:only-of-type {\n",
       "        vertical-align: middle;\n",
       "    }\n",
       "\n",
       "    .dataframe tbody tr th {\n",
       "        vertical-align: top;\n",
       "    }\n",
       "\n",
       "    .dataframe thead th {\n",
       "        text-align: right;\n",
       "    }\n",
       "</style>\n",
       "<table border=\"1\" class=\"dataframe\">\n",
       "  <thead>\n",
       "    <tr style=\"text-align: right;\">\n",
       "      <th></th>\n",
       "      <th>country</th>\n",
       "      <th>beer_servings</th>\n",
       "      <th>spirit_servings</th>\n",
       "      <th>wine_servings</th>\n",
       "      <th>total_litres_of_pure_alcohol</th>\n",
       "      <th>continent</th>\n",
       "    </tr>\n",
       "  </thead>\n",
       "  <tbody>\n",
       "    <tr>\n",
       "      <th>0</th>\n",
       "      <td>Afghanistan</td>\n",
       "      <td>0</td>\n",
       "      <td>0</td>\n",
       "      <td>0</td>\n",
       "      <td>0.0</td>\n",
       "      <td>Asia</td>\n",
       "    </tr>\n",
       "    <tr>\n",
       "      <th>1</th>\n",
       "      <td>Albania</td>\n",
       "      <td>89</td>\n",
       "      <td>132</td>\n",
       "      <td>54</td>\n",
       "      <td>4.9</td>\n",
       "      <td>Europe</td>\n",
       "    </tr>\n",
       "    <tr>\n",
       "      <th>2</th>\n",
       "      <td>Algeria</td>\n",
       "      <td>25</td>\n",
       "      <td>0</td>\n",
       "      <td>14</td>\n",
       "      <td>0.7</td>\n",
       "      <td>Africa</td>\n",
       "    </tr>\n",
       "    <tr>\n",
       "      <th>3</th>\n",
       "      <td>Andorra</td>\n",
       "      <td>245</td>\n",
       "      <td>138</td>\n",
       "      <td>312</td>\n",
       "      <td>12.4</td>\n",
       "      <td>Europe</td>\n",
       "    </tr>\n",
       "    <tr>\n",
       "      <th>4</th>\n",
       "      <td>Angola</td>\n",
       "      <td>217</td>\n",
       "      <td>57</td>\n",
       "      <td>45</td>\n",
       "      <td>5.9</td>\n",
       "      <td>Africa</td>\n",
       "    </tr>\n",
       "  </tbody>\n",
       "</table>\n",
       "</div>"
      ],
      "text/plain": [
       "       country  beer_servings  spirit_servings  wine_servings  \\\n",
       "0  Afghanistan              0                0              0   \n",
       "1      Albania             89              132             54   \n",
       "2      Algeria             25                0             14   \n",
       "3      Andorra            245              138            312   \n",
       "4       Angola            217               57             45   \n",
       "\n",
       "   total_litres_of_pure_alcohol continent  \n",
       "0                           0.0      Asia  \n",
       "1                           4.9    Europe  \n",
       "2                           0.7    Africa  \n",
       "3                          12.4    Europe  \n",
       "4                           5.9    Africa  "
      ]
     },
     "execution_count": 9,
     "metadata": {},
     "output_type": "execute_result"
    }
   ],
   "source": [
    "df.head()"
   ]
  },
  {
   "cell_type": "code",
   "execution_count": 10,
   "metadata": {},
   "outputs": [
    {
     "data": {
      "text/plain": [
       "(193, 6)"
      ]
     },
     "execution_count": 10,
     "metadata": {},
     "output_type": "execute_result"
    }
   ],
   "source": [
    "df.shape"
   ]
  },
  {
   "cell_type": "code",
   "execution_count": 12,
   "metadata": {},
   "outputs": [],
   "source": [
    "pd.options.plotting.backend = 'hvplot'"
   ]
  },
  {
   "cell_type": "code",
   "execution_count": 27,
   "metadata": {},
   "outputs": [
    {
     "data": {
      "application/vnd.holoviews_exec.v0+json": "",
      "text/html": [
       "<div id='2127' style='display: table; margin: 0 auto;'>\n",
       "\n",
       "\n",
       "\n",
       "\n",
       "\n",
       "  <div class=\"bk-root\" id=\"80d34876-5fdf-49c0-aa8f-66ce838b2e9e\" data-root-id=\"2127\"></div>\n",
       "</div>\n",
       "<script type=\"application/javascript\">(function(root) {\n",
       "  function embed_document(root) {\n",
       "    \n",
       "  var docs_json = {\"584f25d5-91c3-4f0c-8d23-177a499698f0\":{\"roots\":{\"references\":[{\"attributes\":{\"align\":null,\"below\":[{\"id\":\"2136\",\"type\":\"LinearAxis\"}],\"center\":[{\"id\":\"2140\",\"type\":\"Grid\"},{\"id\":\"2145\",\"type\":\"Grid\"},{\"id\":\"2175\",\"type\":\"Legend\"}],\"left\":[{\"id\":\"2141\",\"type\":\"LinearAxis\"}],\"margin\":null,\"min_border_bottom\":10,\"min_border_left\":10,\"min_border_right\":10,\"min_border_top\":10,\"plot_height\":300,\"plot_width\":700,\"renderers\":[{\"id\":\"2167\",\"type\":\"GlyphRenderer\"}],\"right\":[{\"id\":\"2175\",\"type\":\"Legend\"}],\"sizing_mode\":\"fixed\",\"title\":{\"id\":\"2128\",\"type\":\"Title\"},\"toolbar\":{\"id\":\"2151\",\"type\":\"Toolbar\"},\"x_range\":{\"id\":\"2124\",\"type\":\"Range1d\"},\"x_scale\":{\"id\":\"2132\",\"type\":\"LinearScale\"},\"y_range\":{\"id\":\"2125\",\"type\":\"Range1d\"},\"y_scale\":{\"id\":\"2134\",\"type\":\"LinearScale\"}},\"id\":\"2127\",\"subtype\":\"Figure\",\"type\":\"Plot\"},{\"attributes\":{\"factors\":[\"Asia\",\"Europe\",\"Africa\",\"North America\",\"South America\",\"Oceania\"],\"palette\":[\"#1f77b3\",\"#ff7e0e\",\"#2ba02b\",\"#d62628\",\"#9367bc\",\"#8c564b\"]},\"id\":\"2158\",\"type\":\"CategoricalColorMapper\"},{\"attributes\":{\"fill_alpha\":{\"value\":0.1},\"fill_color\":{\"field\":\"color\",\"transform\":{\"id\":\"2158\",\"type\":\"CategoricalColorMapper\"}},\"line_alpha\":{\"value\":0.1},\"line_color\":{\"field\":\"color\",\"transform\":{\"id\":\"2158\",\"type\":\"CategoricalColorMapper\"}},\"size\":{\"units\":\"screen\",\"value\":5.477225575051661},\"x\":{\"field\":\"spirit_servings\"},\"y\":{\"field\":\"beer_servings\"}},\"id\":\"2163\",\"type\":\"Scatter\"},{\"attributes\":{},\"id\":\"2146\",\"type\":\"SaveTool\"},{\"attributes\":{\"text\":\"\",\"text_color\":{\"value\":\"black\"},\"text_font_size\":{\"value\":\"12pt\"}},\"id\":\"2128\",\"type\":\"Title\"},{\"attributes\":{\"overlay\":{\"id\":\"2174\",\"type\":\"BoxAnnotation\"}},\"id\":\"2149\",\"type\":\"BoxZoomTool\"},{\"attributes\":{\"callback\":null,\"data\":{\"beer_servings\":[0,89,25,245,217,102,193,21,261,279,21,122,42,0,143,142,295,263,34,23,167,76,173,245,31,231,25,88,37,144,57,147,240,17,15,130,79,159,1,76,0,149,230,93,192,361,0,32,224,15,52,193,162,6,52,92,18,224,20,77,263,127,347,8,52,346,31,133,199,53,9,28,93,1,69,234,233,9,5,0,9,313,63,85,82,77,6,124,58,21,0,31,62,281,20,82,19,0,343,236,26,8,13,0,5,149,0,0,98,238,62,0,77,31,12,47,5,376,49,5,251,203,78,3,42,188,169,22,0,306,285,44,213,163,71,343,194,1,140,109,297,247,43,194,171,120,105,0,56,0,9,283,157,25,60,196,270,56,0,225,284,16,8,128,90,152,185,5,2,99,106,1,36,36,197,51,51,19,6,45,206,16,219,36,249,115,25,21,333,111,6,32,64],\"color\":[\"Asia\",\"Europe\",\"Africa\",\"Europe\",\"Africa\",\"North America\",\"South America\",\"Europe\",\"Oceania\",\"Europe\",\"Europe\",\"North America\",\"Asia\",\"Asia\",\"North America\",\"Europe\",\"Europe\",\"North America\",\"Africa\",\"Asia\",\"South America\",\"Europe\",\"Africa\",\"South America\",\"Asia\",\"Europe\",\"Africa\",\"Africa\",\"Africa\",\"Africa\",\"Asia\",\"Africa\",\"North America\",\"Africa\",\"Africa\",\"South America\",\"Asia\",\"South America\",\"Africa\",\"Africa\",\"Oceania\",\"North America\",\"Europe\",\"North America\",\"Europe\",\"Europe\",\"Asia\",\"Africa\",\"Europe\",\"Africa\",\"North America\",\"North America\",\"South America\",\"Africa\",\"North America\",\"Africa\",\"Africa\",\"Europe\",\"Africa\",\"Oceania\",\"Europe\",\"Europe\",\"Africa\",\"Africa\",\"Europe\",\"Europe\",\"Africa\",\"Europe\",\"North America\",\"North America\",\"Africa\",\"Africa\",\"South America\",\"North America\",\"North America\",\"Europe\",\"Europe\",\"Asia\",\"Asia\",\"Asia\",\"Asia\",\"Europe\",\"Asia\",\"Europe\",\"North America\",\"Asia\",\"Asia\",\"Asia\",\"Africa\",\"Oceania\",\"Asia\",\"Asia\",\"Asia\",\"Europe\",\"Asia\",\"Africa\",\"Africa\",\"Africa\",\"Europe\",\"Europe\",\"Africa\",\"Africa\",\"Asia\",\"Asia\",\"Africa\",\"Europe\",\"Oceania\",\"Africa\",\"Africa\",\"North America\",\"Oceania\",\"Europe\",\"Asia\",\"Europe\",\"Africa\",\"Africa\",\"Asia\",\"Africa\",\"Oceania\",\"Asia\",\"Europe\",\"Oceania\",\"North America\",\"Africa\",\"Africa\",\"Oceania\",\"Europe\",\"Asia\",\"Asia\",\"Oceania\",\"North America\",\"Oceania\",\"South America\",\"South America\",\"Asia\",\"Europe\",\"Europe\",\"Asia\",\"Asia\",\"Europe\",\"Europe\",\"Asia\",\"Africa\",\"North America\",\"North America\",\"North America\",\"Oceania\",\"Europe\",\"Africa\",\"Asia\",\"Africa\",\"Europe\",\"Africa\",\"Africa\",\"Asia\",\"Europe\",\"Europe\",\"Oceania\",\"Africa\",\"Africa\",\"Europe\",\"Asia\",\"Africa\",\"South America\",\"Africa\",\"Europe\",\"Europe\",\"Asia\",\"Asia\",\"Asia\",\"Europe\",\"Asia\",\"Africa\",\"Oceania\",\"North America\",\"Africa\",\"Asia\",\"Asia\",\"Oceania\",\"Africa\",\"Europe\",\"Asia\",\"Europe\",\"Africa\",\"North America\",\"South America\",\"Asia\",\"Oceania\",\"South America\",\"Asia\",\"Asia\",\"Africa\",\"Africa\"],\"continent\":[\"Asia\",\"Europe\",\"Africa\",\"Europe\",\"Africa\",\"North America\",\"South America\",\"Europe\",\"Oceania\",\"Europe\",\"Europe\",\"North America\",\"Asia\",\"Asia\",\"North America\",\"Europe\",\"Europe\",\"North America\",\"Africa\",\"Asia\",\"South America\",\"Europe\",\"Africa\",\"South America\",\"Asia\",\"Europe\",\"Africa\",\"Africa\",\"Africa\",\"Africa\",\"Asia\",\"Africa\",\"North America\",\"Africa\",\"Africa\",\"South America\",\"Asia\",\"South America\",\"Africa\",\"Africa\",\"Oceania\",\"North America\",\"Europe\",\"North America\",\"Europe\",\"Europe\",\"Asia\",\"Africa\",\"Europe\",\"Africa\",\"North America\",\"North America\",\"South America\",\"Africa\",\"North America\",\"Africa\",\"Africa\",\"Europe\",\"Africa\",\"Oceania\",\"Europe\",\"Europe\",\"Africa\",\"Africa\",\"Europe\",\"Europe\",\"Africa\",\"Europe\",\"North America\",\"North America\",\"Africa\",\"Africa\",\"South America\",\"North America\",\"North America\",\"Europe\",\"Europe\",\"Asia\",\"Asia\",\"Asia\",\"Asia\",\"Europe\",\"Asia\",\"Europe\",\"North America\",\"Asia\",\"Asia\",\"Asia\",\"Africa\",\"Oceania\",\"Asia\",\"Asia\",\"Asia\",\"Europe\",\"Asia\",\"Africa\",\"Africa\",\"Africa\",\"Europe\",\"Europe\",\"Africa\",\"Africa\",\"Asia\",\"Asia\",\"Africa\",\"Europe\",\"Oceania\",\"Africa\",\"Africa\",\"North America\",\"Oceania\",\"Europe\",\"Asia\",\"Europe\",\"Africa\",\"Africa\",\"Asia\",\"Africa\",\"Oceania\",\"Asia\",\"Europe\",\"Oceania\",\"North America\",\"Africa\",\"Africa\",\"Oceania\",\"Europe\",\"Asia\",\"Asia\",\"Oceania\",\"North America\",\"Oceania\",\"South America\",\"South America\",\"Asia\",\"Europe\",\"Europe\",\"Asia\",\"Asia\",\"Europe\",\"Europe\",\"Asia\",\"Africa\",\"North America\",\"North America\",\"North America\",\"Oceania\",\"Europe\",\"Africa\",\"Asia\",\"Africa\",\"Europe\",\"Africa\",\"Africa\",\"Asia\",\"Europe\",\"Europe\",\"Oceania\",\"Africa\",\"Africa\",\"Europe\",\"Asia\",\"Africa\",\"South America\",\"Africa\",\"Europe\",\"Europe\",\"Asia\",\"Asia\",\"Asia\",\"Europe\",\"Asia\",\"Africa\",\"Oceania\",\"North America\",\"Africa\",\"Asia\",\"Asia\",\"Oceania\",\"Africa\",\"Europe\",\"Asia\",\"Europe\",\"Africa\",\"North America\",\"South America\",\"Asia\",\"Oceania\",\"South America\",\"Asia\",\"Asia\",\"Africa\",\"Africa\"],\"spirit_servings\":[0,132,0,138,57,128,25,179,72,75,46,176,63,0,173,373,84,114,4,0,41,173,35,145,2,252,7,0,1,56,65,1,122,2,1,124,192,76,3,1,254,87,87,137,154,170,0,3,81,44,286,147,74,4,69,0,0,194,3,35,133,151,98,0,100,117,3,112,438,69,0,31,302,326,98,215,61,114,1,0,3,118,69,42,97,202,21,246,22,34,0,97,0,216,55,29,152,0,244,133,15,11,4,0,1,100,0,0,31,68,50,0,189,114,6,18,1,3,0,6,88,79,118,2,5,200,71,16,0,63,104,39,117,160,186,215,67,42,16,226,122,326,2,205,315,221,18,0,38,5,1,131,25,3,12,293,51,11,0,76,157,104,13,178,2,60,100,35,15,258,27,1,2,21,156,3,22,71,41,9,237,135,126,6,158,35,101,18,100,2,0,19,18]},\"selected\":{\"id\":\"2160\",\"type\":\"Selection\"},\"selection_policy\":{\"id\":\"2187\",\"type\":\"UnionRenderers\"}},\"id\":\"2159\",\"type\":\"ColumnDataSource\"},{\"attributes\":{\"active_drag\":\"auto\",\"active_inspect\":\"auto\",\"active_multi\":null,\"active_scroll\":\"auto\",\"active_tap\":\"auto\",\"tools\":[{\"id\":\"2126\",\"type\":\"HoverTool\"},{\"id\":\"2146\",\"type\":\"SaveTool\"},{\"id\":\"2147\",\"type\":\"PanTool\"},{\"id\":\"2148\",\"type\":\"WheelZoomTool\"},{\"id\":\"2149\",\"type\":\"BoxZoomTool\"},{\"id\":\"2150\",\"type\":\"ResetTool\"}]},\"id\":\"2151\",\"type\":\"Toolbar\"},{\"attributes\":{},\"id\":\"2134\",\"type\":\"LinearScale\"},{\"attributes\":{\"label\":{\"field\":\"color\"},\"renderers\":[{\"id\":\"2167\",\"type\":\"GlyphRenderer\"}]},\"id\":\"2176\",\"type\":\"LegendItem\"},{\"attributes\":{},\"id\":\"2172\",\"type\":\"BasicTickFormatter\"},{\"attributes\":{},\"id\":\"2132\",\"type\":\"LinearScale\"},{\"attributes\":{\"fill_color\":{\"field\":\"color\",\"transform\":{\"id\":\"2158\",\"type\":\"CategoricalColorMapper\"}},\"line_color\":{\"field\":\"color\",\"transform\":{\"id\":\"2158\",\"type\":\"CategoricalColorMapper\"}},\"size\":{\"units\":\"screen\",\"value\":5.477225575051661},\"x\":{\"field\":\"spirit_servings\"},\"y\":{\"field\":\"beer_servings\"}},\"id\":\"2162\",\"type\":\"Scatter\"},{\"attributes\":{\"bottom_units\":\"screen\",\"fill_alpha\":{\"value\":0.5},\"fill_color\":{\"value\":\"lightgrey\"},\"left_units\":\"screen\",\"level\":\"overlay\",\"line_alpha\":{\"value\":1.0},\"line_color\":{\"value\":\"black\"},\"line_dash\":[4,4],\"line_width\":{\"value\":2},\"render_mode\":\"css\",\"right_units\":\"screen\",\"top_units\":\"screen\"},\"id\":\"2174\",\"type\":\"BoxAnnotation\"},{\"attributes\":{},\"id\":\"2137\",\"type\":\"BasicTicker\"},{\"attributes\":{},\"id\":\"2148\",\"type\":\"WheelZoomTool\"},{\"attributes\":{\"grid_line_color\":null,\"ticker\":{\"id\":\"2137\",\"type\":\"BasicTicker\"}},\"id\":\"2140\",\"type\":\"Grid\"},{\"attributes\":{\"axis_label\":\"beer_servings\",\"bounds\":\"auto\",\"formatter\":{\"id\":\"2170\",\"type\":\"BasicTickFormatter\"},\"major_label_orientation\":\"horizontal\",\"ticker\":{\"id\":\"2142\",\"type\":\"BasicTicker\"}},\"id\":\"2141\",\"type\":\"LinearAxis\"},{\"attributes\":{\"data_source\":{\"id\":\"2159\",\"type\":\"ColumnDataSource\"},\"glyph\":{\"id\":\"2162\",\"type\":\"Scatter\"},\"hover_glyph\":{\"id\":\"2165\",\"type\":\"Scatter\"},\"muted_glyph\":{\"id\":\"2166\",\"type\":\"Scatter\"},\"nonselection_glyph\":{\"id\":\"2163\",\"type\":\"Scatter\"},\"selection_glyph\":{\"id\":\"2164\",\"type\":\"Scatter\"},\"view\":{\"id\":\"2168\",\"type\":\"CDSView\"}},\"id\":\"2167\",\"type\":\"GlyphRenderer\"},{\"attributes\":{\"fill_alpha\":{\"value\":0.2},\"fill_color\":{\"field\":\"color\",\"transform\":{\"id\":\"2158\",\"type\":\"CategoricalColorMapper\"}},\"line_alpha\":{\"value\":0.2},\"line_color\":{\"field\":\"color\",\"transform\":{\"id\":\"2158\",\"type\":\"CategoricalColorMapper\"}},\"size\":{\"units\":\"screen\",\"value\":5.477225575051661},\"x\":{\"field\":\"spirit_servings\"},\"y\":{\"field\":\"beer_servings\"}},\"id\":\"2166\",\"type\":\"Scatter\"},{\"attributes\":{\"items\":[{\"id\":\"2176\",\"type\":\"LegendItem\"}],\"location\":[0,0]},\"id\":\"2175\",\"type\":\"Legend\"},{\"attributes\":{\"axis_label\":\"spirit_servings\",\"bounds\":\"auto\",\"formatter\":{\"id\":\"2172\",\"type\":\"BasicTickFormatter\"},\"major_label_orientation\":\"horizontal\",\"ticker\":{\"id\":\"2137\",\"type\":\"BasicTicker\"}},\"id\":\"2136\",\"type\":\"LinearAxis\"},{\"attributes\":{},\"id\":\"2160\",\"type\":\"Selection\"},{\"attributes\":{},\"id\":\"2147\",\"type\":\"PanTool\"},{\"attributes\":{},\"id\":\"2142\",\"type\":\"BasicTicker\"},{\"attributes\":{\"source\":{\"id\":\"2159\",\"type\":\"ColumnDataSource\"}},\"id\":\"2168\",\"type\":\"CDSView\"},{\"attributes\":{},\"id\":\"2150\",\"type\":\"ResetTool\"},{\"attributes\":{\"dimension\":1,\"grid_line_color\":null,\"ticker\":{\"id\":\"2142\",\"type\":\"BasicTicker\"}},\"id\":\"2145\",\"type\":\"Grid\"},{\"attributes\":{\"fill_color\":{\"field\":\"color\",\"transform\":{\"id\":\"2158\",\"type\":\"CategoricalColorMapper\"}},\"line_color\":{\"field\":\"color\",\"transform\":{\"id\":\"2158\",\"type\":\"CategoricalColorMapper\"}},\"size\":{\"units\":\"screen\",\"value\":5.477225575051661},\"x\":{\"field\":\"spirit_servings\"},\"y\":{\"field\":\"beer_servings\"}},\"id\":\"2165\",\"type\":\"Scatter\"},{\"attributes\":{},\"id\":\"2187\",\"type\":\"UnionRenderers\"},{\"attributes\":{\"callback\":null,\"renderers\":[{\"id\":\"2167\",\"type\":\"GlyphRenderer\"}],\"tags\":[\"hv_created\"],\"tooltips\":[[\"spirit_servings\",\"@{spirit_servings}\"],[\"beer_servings\",\"@{beer_servings}\"],[\"continent\",\"@{continent}\"]]},\"id\":\"2126\",\"type\":\"HoverTool\"},{\"attributes\":{},\"id\":\"2170\",\"type\":\"BasicTickFormatter\"},{\"attributes\":{\"fill_color\":{\"field\":\"color\",\"transform\":{\"id\":\"2158\",\"type\":\"CategoricalColorMapper\"}},\"line_color\":{\"field\":\"color\",\"transform\":{\"id\":\"2158\",\"type\":\"CategoricalColorMapper\"}},\"size\":{\"units\":\"screen\",\"value\":5.477225575051661},\"x\":{\"field\":\"spirit_servings\"},\"y\":{\"field\":\"beer_servings\"}},\"id\":\"2164\",\"type\":\"Scatter\"},{\"attributes\":{\"callback\":null,\"end\":376.0,\"reset_end\":376.0,\"reset_start\":0.0,\"tags\":[[[\"beer_servings\",\"beer_servings\",null]]]},\"id\":\"2125\",\"type\":\"Range1d\"},{\"attributes\":{\"callback\":null,\"end\":438.0,\"reset_end\":438.0,\"reset_start\":0.0,\"tags\":[[[\"spirit_servings\",\"spirit_servings\",null]]]},\"id\":\"2124\",\"type\":\"Range1d\"}],\"root_ids\":[\"2127\"]},\"title\":\"Bokeh Application\",\"version\":\"1.4.0\"}};\n",
       "  var render_items = [{\"docid\":\"584f25d5-91c3-4f0c-8d23-177a499698f0\",\"roots\":{\"2127\":\"80d34876-5fdf-49c0-aa8f-66ce838b2e9e\"}}];\n",
       "  root.Bokeh.embed.embed_items_notebook(docs_json, render_items);\n",
       "\n",
       "  }\n",
       "  if (root.Bokeh !== undefined) {\n",
       "    embed_document(root);\n",
       "  } else {\n",
       "    var attempts = 0;\n",
       "    var timer = setInterval(function(root) {\n",
       "      if (root.Bokeh !== undefined) {\n",
       "        clearInterval(timer);\n",
       "        embed_document(root);\n",
       "      } else {\n",
       "        attempts++;\n",
       "        if (attempts > 100) {\n",
       "          clearInterval(timer);\n",
       "          console.log(\"Bokeh: ERROR: Unable to run BokehJS code because BokehJS library is missing\");\n",
       "        }\n",
       "      }\n",
       "    }, 10, root)\n",
       "  }\n",
       "})(window);</script>"
      ],
      "text/plain": [
       ":Scatter   [spirit_servings]   (beer_servings,continent)"
      ]
     },
     "execution_count": 27,
     "metadata": {
      "application/vnd.holoviews_exec.v0+json": {
       "id": "2127"
      }
     },
     "output_type": "execute_result"
    }
   ],
   "source": [
    "df.plot(kind='scatter', x='spirit_servings', y='beer_servings', c='continent')"
   ]
  }
 ],
 "metadata": {
  "kernelspec": {
   "display_name": "Python 3",
   "language": "python",
   "name": "python3"
  },
  "language_info": {
   "codemirror_mode": {
    "name": "ipython",
    "version": 3
   },
   "file_extension": ".py",
   "mimetype": "text/x-python",
   "name": "python",
   "nbconvert_exporter": "python",
   "pygments_lexer": "ipython3",
   "version": "3.7.4"
  }
 },
 "nbformat": 4,
 "nbformat_minor": 2
}
